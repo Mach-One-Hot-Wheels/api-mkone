{
 "cells": [
  {
   "cell_type": "markdown",
   "metadata": {},
   "source": [
    "# Hot Wheels Data Processing\n",
    "This notebook processes Hot Wheels data and loads it into a SQLite database."
   ]
  },
  {
   "cell_type": "markdown",
   "metadata": {},
   "source": [
    "## 1. Setup and Data Loading"
   ]
  },
  {
   "cell_type": "code",
   "execution_count": 9,
   "metadata": {},
   "outputs": [],
   "source": [
    "import pandas as pd\n",
    "import numpy as np\n",
    "import uuid\n",
    "from sqlalchemy import create_engine\n",
    "from dotenv import load_dotenv\n",
    "import os\n",
    "\n",
    "load_dotenv()\n",
    "\n",
    "POSTGRES_USER = os.getenv(\"POSTGRES_USER\")\n",
    "POSTGRES_PASSWORD = os.getenv(\"POSTGRES_PASSWORD\")\n",
    "POSTGRES_DB = os.getenv(\"POSTGRES_DB\")\n",
    "POSTGRES_HOSTNAME = os.getenv(\"POSTGRES_HOSTNAME\")\n",
    "POSTGRES_PORT = os.getenv(\"POSTGRES_PORT\")\n",
    "\n",
    "# Load the data\n",
    "df = pd.read_json(\"hotwheels.jsonl\", lines=True, dtype={\"Collector #\": \"Int64\"})"
   ]
  },
  {
   "cell_type": "markdown",
   "metadata": {},
   "source": [
    "## 2. Data Cleaning"
   ]
  },
  {
   "cell_type": "code",
   "execution_count": 10,
   "metadata": {},
   "outputs": [],
   "source": [
    "# Remove rows with missing model names and drop unnecessary columns\n",
    "df = df.dropna(subset=['Model Name'])\n",
    "df = df.drop(columns=[\"Card Variant\", \"Mainline\", \"ID\"])"
   ]
  },
  {
   "cell_type": "markdown",
   "metadata": {},
   "source": [
    "## 3. Column Standardization"
   ]
  },
  {
   "cell_type": "code",
   "execution_count": 11,
   "metadata": {},
   "outputs": [],
   "source": [
    "# Rename columns to snake_case format\n",
    "column_mapping = {\n",
    "    'Model Name': 'model_name', \n",
    "    'Image URL': 'image_url',\n",
    "    'Collector #': 'collector_number',\n",
    "    'Series #': 'series_number',\n",
    "    'Release Year': 'release_year',\n",
    "    'Series': 'series',\n",
    "    'Color': 'color',\n",
    "    'Tampo': 'tampo',\n",
    "    'Wheel Type': 'wheel_type',\n",
    "    'Base Type': 'base_type',\n",
    "    'Base Color': 'base_color',\n",
    "    'Window Color': 'window_color',\n",
    "    'Interior Color': 'interior_color',\n",
    "    'Toy #': 'toy_number',\n",
    "    'Assortment #': 'assortment_number',\n",
    "    'Scale': 'scale',\n",
    "    'Country': 'country',\n",
    "    'Base Codes': 'base_codes',\n",
    "    'Case Number': 'case_number',\n",
    "    'Notes': 'notes',\n",
    "    'Treasure Hunt': 'treasure_hunt'\n",
    "}\n",
    "df = df.rename(columns=column_mapping)"
   ]
  },
  {
   "cell_type": "markdown",
   "metadata": {},
   "source": [
    "## 4. Feature Engineering"
   ]
  },
  {
   "cell_type": "code",
   "execution_count": 12,
   "metadata": {},
   "outputs": [],
   "source": [
    "def extract_treasure_hunt_year(text):\n",
    "    if pd.isna(text):\n",
    "        return np.nan\n",
    "    return int(text.split(' ')[0]) if 'Treasure Hunts' in text and 'Super' not in text else np.nan\n",
    "\n",
    "def extract_super_treasure_hunt_year(text):\n",
    "    if pd.isna(text):\n",
    "        return np.nan\n",
    "    return int(text.split(' ')[0]) if 'Super Treasure Hunts' in text else np.nan\n",
    "\n",
    "# Create treasure hunt features\n",
    "df['treasure_hunt_year'] = df['treasure_hunt'].apply(extract_treasure_hunt_year)\n",
    "df['super_treasure_hunt_year'] = df['treasure_hunt'].apply(extract_super_treasure_hunt_year)\n",
    "df = df.drop(columns=[\"treasure_hunt\"])\n",
    "\n",
    "# Add unique identifier\n",
    "df['id'] = [uuid.uuid4() for _ in range(len(df))]"
   ]
  },
  {
   "cell_type": "markdown",
   "metadata": {},
   "source": [
    "## 5. Data Type Conversion"
   ]
  },
  {
   "cell_type": "code",
   "execution_count": 13,
   "metadata": {},
   "outputs": [],
   "source": [
    "# Convert columns to appropriate data types\n",
    "df[\"super_treasure_hunt_year\"] = df[\"super_treasure_hunt_year\"].astype(\"Int64\")\n",
    "df[\"treasure_hunt_year\"] = df[\"treasure_hunt_year\"].astype(\"Int64\")\n",
    "df[\"release_year\"] = pd.to_numeric(df[\"release_year\"], errors='coerce').astype(\"Int64\")"
   ]
  },
  {
   "cell_type": "code",
   "execution_count": 14,
   "metadata": {},
   "outputs": [
    {
     "data": {
      "application/vnd.microsoft.datawrangler.viewer.v0+json": {
       "columns": [
        {
         "name": "index",
         "rawType": "int64",
         "type": "integer"
        },
        {
         "name": "model_name",
         "rawType": "object",
         "type": "string"
        },
        {
         "name": "image_url",
         "rawType": "object",
         "type": "unknown"
        },
        {
         "name": "series",
         "rawType": "object",
         "type": "string"
        },
        {
         "name": "release_year",
         "rawType": "Int64",
         "type": "integer"
        }
       ],
       "conversionMethod": "pd.DataFrame",
       "ref": "fc9975cd-4ad0-4a6b-b6c6-16b5ec985d88",
       "rows": [
        [
         "6740",
         "Classic '36 Ford Coupe",
         null,
         "Hot Wheels",
         "1969"
        ],
        [
         "47288",
         "MS-T Suzuka",
         "https://images.collecthw.com/c3eced29-0133-4a76-8c76-ae1cbb650cdb_large.png",
         "HW 2001",
         "2001"
        ],
        [
         "3571",
         "Nitro Scorcher",
         "https://images.collecthw.com/5ea8cb29-fc93-48a5-8590-387304a44f95_large.jpg",
         "2007 New Models",
         "2007"
        ],
        [
         "4313",
         "Way 2 Fast",
         "https://images.collecthw.com/cbb43eee-31d2-40ab-b4b4-06e2f483fc79_large.png",
         "Pin Hedz",
         "2005"
        ],
        [
         "30345",
         "Maximum Leeway",
         "https://images.collecthw.com/4fd2f788-66a0-41bc-94da-e9e6c7a96710_large.png",
         "HW Games",
         "2016"
        ],
        [
         "33826",
         "Lamborghini Sesto Elemento",
         "https://images.collecthw.com/e3f09398-71eb-4e6a-8a95-bfa384bd15be_large.png",
         "HW Exotics",
         "2020"
        ],
        [
         "40194",
         "2006 Dodge Viper Coupe",
         "https://images.collecthw.com/72c2bc06-bc52-45df-b7bc-0fe0a9e92b00_large.png",
         "2006 First Editions",
         "2006"
        ],
        [
         "31543",
         "'17 Acura NSX",
         "https://images.collecthw.com/2d09b093-e1f5-4393-bd5c-41793330cc51_large.png",
         "HW Exotics",
         "2019"
        ],
        [
         "16772",
         "Side Draft",
         "https://images.collecthw.com/a6f5c025-a25a-42a6-9ef6-c0f856705178_large.png",
         "Multipack Exclusive",
         "2012"
        ],
        [
         "53805",
         "'72 Plymouth Cuda FC",
         "https://images.collecthw.com/f3d00bab-9fae-4c10-a3f0-ecb805e0766e_large.jpg",
         "NFT Garage Series 8",
         "2024"
        ],
        [
         "44075",
         "Water Bomber",
         "https://images.collecthw.com/fe3f875c-3e3b-4da4-a701-33a613ada31c_large.png",
         "HW Rescue",
         "2022"
        ]
       ],
       "shape": {
        "columns": 4,
        "rows": 11
       }
      },
      "text/html": [
       "<div>\n",
       "<style scoped>\n",
       "    .dataframe tbody tr th:only-of-type {\n",
       "        vertical-align: middle;\n",
       "    }\n",
       "\n",
       "    .dataframe tbody tr th {\n",
       "        vertical-align: top;\n",
       "    }\n",
       "\n",
       "    .dataframe thead th {\n",
       "        text-align: right;\n",
       "    }\n",
       "</style>\n",
       "<table border=\"1\" class=\"dataframe\">\n",
       "  <thead>\n",
       "    <tr style=\"text-align: right;\">\n",
       "      <th></th>\n",
       "      <th>model_name</th>\n",
       "      <th>image_url</th>\n",
       "      <th>series</th>\n",
       "      <th>release_year</th>\n",
       "    </tr>\n",
       "  </thead>\n",
       "  <tbody>\n",
       "    <tr>\n",
       "      <th>6740</th>\n",
       "      <td>Classic '36 Ford Coupe</td>\n",
       "      <td>NaN</td>\n",
       "      <td>Hot Wheels</td>\n",
       "      <td>1969</td>\n",
       "    </tr>\n",
       "    <tr>\n",
       "      <th>47288</th>\n",
       "      <td>MS-T Suzuka</td>\n",
       "      <td>https://images.collecthw.com/c3eced29-0133-4a7...</td>\n",
       "      <td>HW 2001</td>\n",
       "      <td>2001</td>\n",
       "    </tr>\n",
       "    <tr>\n",
       "      <th>3571</th>\n",
       "      <td>Nitro Scorcher</td>\n",
       "      <td>https://images.collecthw.com/5ea8cb29-fc93-48a...</td>\n",
       "      <td>2007 New Models</td>\n",
       "      <td>2007</td>\n",
       "    </tr>\n",
       "    <tr>\n",
       "      <th>4313</th>\n",
       "      <td>Way 2 Fast</td>\n",
       "      <td>https://images.collecthw.com/cbb43eee-31d2-40a...</td>\n",
       "      <td>Pin Hedz</td>\n",
       "      <td>2005</td>\n",
       "    </tr>\n",
       "    <tr>\n",
       "      <th>30345</th>\n",
       "      <td>Maximum Leeway</td>\n",
       "      <td>https://images.collecthw.com/4fd2f788-66a0-41b...</td>\n",
       "      <td>HW Games</td>\n",
       "      <td>2016</td>\n",
       "    </tr>\n",
       "    <tr>\n",
       "      <th>33826</th>\n",
       "      <td>Lamborghini Sesto Elemento</td>\n",
       "      <td>https://images.collecthw.com/e3f09398-71eb-4e6...</td>\n",
       "      <td>HW Exotics</td>\n",
       "      <td>2020</td>\n",
       "    </tr>\n",
       "    <tr>\n",
       "      <th>40194</th>\n",
       "      <td>2006 Dodge Viper Coupe</td>\n",
       "      <td>https://images.collecthw.com/72c2bc06-bc52-45d...</td>\n",
       "      <td>2006 First Editions</td>\n",
       "      <td>2006</td>\n",
       "    </tr>\n",
       "    <tr>\n",
       "      <th>31543</th>\n",
       "      <td>'17 Acura NSX</td>\n",
       "      <td>https://images.collecthw.com/2d09b093-e1f5-439...</td>\n",
       "      <td>HW Exotics</td>\n",
       "      <td>2019</td>\n",
       "    </tr>\n",
       "    <tr>\n",
       "      <th>16772</th>\n",
       "      <td>Side Draft</td>\n",
       "      <td>https://images.collecthw.com/a6f5c025-a25a-42a...</td>\n",
       "      <td>Multipack Exclusive</td>\n",
       "      <td>2012</td>\n",
       "    </tr>\n",
       "    <tr>\n",
       "      <th>53805</th>\n",
       "      <td>'72 Plymouth Cuda FC</td>\n",
       "      <td>https://images.collecthw.com/f3d00bab-9fae-4c1...</td>\n",
       "      <td>NFT Garage Series 8</td>\n",
       "      <td>2024</td>\n",
       "    </tr>\n",
       "    <tr>\n",
       "      <th>44075</th>\n",
       "      <td>Water Bomber</td>\n",
       "      <td>https://images.collecthw.com/fe3f875c-3e3b-4da...</td>\n",
       "      <td>HW Rescue</td>\n",
       "      <td>2022</td>\n",
       "    </tr>\n",
       "  </tbody>\n",
       "</table>\n",
       "</div>"
      ],
      "text/plain": [
       "                       model_name  \\\n",
       "6740       Classic '36 Ford Coupe   \n",
       "47288                 MS-T Suzuka   \n",
       "3571               Nitro Scorcher   \n",
       "4313                   Way 2 Fast   \n",
       "30345              Maximum Leeway   \n",
       "33826  Lamborghini Sesto Elemento   \n",
       "40194      2006 Dodge Viper Coupe   \n",
       "31543               '17 Acura NSX   \n",
       "16772                  Side Draft   \n",
       "53805        '72 Plymouth Cuda FC   \n",
       "44075                Water Bomber   \n",
       "\n",
       "                                               image_url               series  \\\n",
       "6740                                                 NaN           Hot Wheels   \n",
       "47288  https://images.collecthw.com/c3eced29-0133-4a7...              HW 2001   \n",
       "3571   https://images.collecthw.com/5ea8cb29-fc93-48a...      2007 New Models   \n",
       "4313   https://images.collecthw.com/cbb43eee-31d2-40a...             Pin Hedz   \n",
       "30345  https://images.collecthw.com/4fd2f788-66a0-41b...             HW Games   \n",
       "33826  https://images.collecthw.com/e3f09398-71eb-4e6...           HW Exotics   \n",
       "40194  https://images.collecthw.com/72c2bc06-bc52-45d...  2006 First Editions   \n",
       "31543  https://images.collecthw.com/2d09b093-e1f5-439...           HW Exotics   \n",
       "16772  https://images.collecthw.com/a6f5c025-a25a-42a...  Multipack Exclusive   \n",
       "53805  https://images.collecthw.com/f3d00bab-9fae-4c1...  NFT Garage Series 8   \n",
       "44075  https://images.collecthw.com/fe3f875c-3e3b-4da...            HW Rescue   \n",
       "\n",
       "       release_year  \n",
       "6740           1969  \n",
       "47288          2001  \n",
       "3571           2007  \n",
       "4313           2005  \n",
       "30345          2016  \n",
       "33826          2020  \n",
       "40194          2006  \n",
       "31543          2019  \n",
       "16772          2012  \n",
       "53805          2024  \n",
       "44075          2022  "
      ]
     },
     "execution_count": 14,
     "metadata": {},
     "output_type": "execute_result"
    }
   ],
   "source": [
    "df[['model_name', 'image_url', 'series', 'release_year']].sample(11)"
   ]
  },
  {
   "cell_type": "code",
   "execution_count": 15,
   "metadata": {},
   "outputs": [
    {
     "data": {
      "text/plain": [
       "13"
      ]
     },
     "execution_count": 15,
     "metadata": {},
     "output_type": "execute_result"
    }
   ],
   "source": [
    "df[\"visit_count\"] = 0\n",
    "df.to_csv(\"hotwheels.csv\", index=False)\n",
    "\n",
    "# Create a code that reads the CSV file and writes the data to a PostgreSQL database\n",
    "df = pd.read_csv(\"hotwheels.csv\")\n",
    "engine = create_engine(f\"postgresql://{POSTGRES_USER}:{POSTGRES_PASSWORD}@{POSTGRES_HOSTNAME}:{POSTGRES_PORT}/{POSTGRES_DB}\")\n",
    "df.to_sql(\"hotwheels\", engine, if_exists=\"append\", index=False)"
   ]
  },
  {
   "cell_type": "markdown",
   "metadata": {},
   "source": [
    "## 6. Database Export"
   ]
  },
  {
   "cell_type": "code",
   "execution_count": 16,
   "metadata": {},
   "outputs": [
    {
     "data": {
      "text/plain": [
       "' DATABASE_URL = f\"postgresql://{POSTGRES_USER}:{POSTGRES_PASSWORD}@{POSTGRES_HOSTNAME}:{POSTGRES_PORT}/{POSTGRES_DB}\"\\nengine = create_engine(DATABASE_URL)\\n\\ndf.to_sql(\\'hotwheels\\', engine, if_exists=\\'append\\', index=False) '"
      ]
     },
     "execution_count": 16,
     "metadata": {},
     "output_type": "execute_result"
    }
   ],
   "source": [
    "\"\"\" DATABASE_URL = f\"postgresql://{POSTGRES_USER}:{POSTGRES_PASSWORD}@{POSTGRES_HOSTNAME}:{POSTGRES_PORT}/{POSTGRES_DB}\"\n",
    "engine = create_engine(DATABASE_URL)\n",
    "\n",
    "df.to_sql('hotwheels', engine, if_exists='append', index=False) \"\"\""
   ]
  }
 ],
 "metadata": {
  "kernelspec": {
   "display_name": ".venv",
   "language": "python",
   "name": "python3"
  },
  "language_info": {
   "codemirror_mode": {
    "name": "ipython",
    "version": 3
   },
   "file_extension": ".py",
   "mimetype": "text/x-python",
   "name": "python",
   "nbconvert_exporter": "python",
   "pygments_lexer": "ipython3",
   "version": "3.12.9"
  }
 },
 "nbformat": 4,
 "nbformat_minor": 2
}
