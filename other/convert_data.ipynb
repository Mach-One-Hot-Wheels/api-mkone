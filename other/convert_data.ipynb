{
 "cells": [
  {
   "cell_type": "markdown",
   "metadata": {},
   "source": [
    "# Hot Wheels Data Processing\n",
    "This notebook processes Hot Wheels data and loads it into a SQLite database."
   ]
  },
  {
   "cell_type": "markdown",
   "metadata": {},
   "source": [
    "## 1. Setup and Data Loading"
   ]
  },
  {
   "cell_type": "code",
   "execution_count": 3,
   "metadata": {},
   "outputs": [],
   "source": [
    "import pandas as pd\n",
    "import numpy as np\n",
    "import uuid\n",
    "from sqlalchemy import create_engine\n",
    "from dotenv import load_dotenv\n",
    "import os\n",
    "\n",
    "load_dotenv()\n",
    "\n",
    "POSTGRES_USER = os.getenv(\"POSTGRES_USER\")\n",
    "POSTGRES_PASSWORD = os.getenv(\"POSTGRES_PASSWORD\")\n",
    "POSTGRES_DB = os.getenv(\"POSTGRES_DB\")\n",
    "POSTGRES_HOSTNAME = os.getenv(\"POSTGRES_HOSTNAME\")\n",
    "POSTGRES_PORT = os.getenv(\"POSTGRES_PORT\")\n",
    "\n",
    "# Load the data\n",
    "df = pd.read_json(\"hotwheels.jsonl\", lines=True, dtype={\"Collector #\": \"Int64\"})"
   ]
  },
  {
   "cell_type": "markdown",
   "metadata": {},
   "source": [
    "## 2. Data Cleaning"
   ]
  },
  {
   "cell_type": "code",
   "execution_count": 4,
   "metadata": {},
   "outputs": [],
   "source": [
    "# Remove rows with missing model names and drop unnecessary columns\n",
    "df = df.dropna(subset=['Model Name'])\n",
    "df = df.drop(columns=[\"Card Variant\", \"Mainline\", \"ID\"])"
   ]
  },
  {
   "cell_type": "markdown",
   "metadata": {},
   "source": [
    "## 3. Column Standardization"
   ]
  },
  {
   "cell_type": "code",
   "execution_count": 5,
   "metadata": {},
   "outputs": [],
   "source": [
    "# Rename columns to snake_case format\n",
    "column_mapping = {\n",
    "    'Model Name': 'model_name', \n",
    "    'Image URL': 'image_url',\n",
    "    'Collector #': 'collector_number',\n",
    "    'Series #': 'series_number',\n",
    "    'Release Year': 'release_year',\n",
    "    'Series': 'series',\n",
    "    'Color': 'color',\n",
    "    'Tampo': 'tampo',\n",
    "    'Wheel Type': 'wheel_type',\n",
    "    'Base Type': 'base_type',\n",
    "    'Base Color': 'base_color',\n",
    "    'Window Color': 'window_color',\n",
    "    'Interior Color': 'interior_color',\n",
    "    'Toy #': 'toy_number',\n",
    "    'Assortment #': 'assortment_number',\n",
    "    'Scale': 'scale',\n",
    "    'Country': 'country',\n",
    "    'Base Codes': 'base_codes',\n",
    "    'Case Number': 'case_number',\n",
    "    'Notes': 'notes',\n",
    "    'Treasure Hunt': 'treasure_hunt'\n",
    "}\n",
    "df = df.rename(columns=column_mapping)"
   ]
  },
  {
   "cell_type": "markdown",
   "metadata": {},
   "source": [
    "## 4. Feature Engineering"
   ]
  },
  {
   "cell_type": "code",
   "execution_count": 6,
   "metadata": {},
   "outputs": [],
   "source": [
    "def extract_treasure_hunt_year(text):\n",
    "    if pd.isna(text):\n",
    "        return np.nan\n",
    "    return int(text.split(' ')[0]) if 'Treasure Hunts' in text and 'Super' not in text else np.nan\n",
    "\n",
    "def extract_super_treasure_hunt_year(text):\n",
    "    if pd.isna(text):\n",
    "        return np.nan\n",
    "    return int(text.split(' ')[0]) if 'Super Treasure Hunts' in text else np.nan\n",
    "\n",
    "# Create treasure hunt features\n",
    "df['treasure_hunt_year'] = df['treasure_hunt'].apply(extract_treasure_hunt_year)\n",
    "df['super_treasure_hunt_year'] = df['treasure_hunt'].apply(extract_super_treasure_hunt_year)\n",
    "df = df.drop(columns=[\"treasure_hunt\"])\n",
    "\n",
    "# Add unique identifier\n",
    "df['id'] = [uuid.uuid4() for _ in range(len(df))]"
   ]
  },
  {
   "cell_type": "markdown",
   "metadata": {},
   "source": [
    "## 5. Data Type Conversion"
   ]
  },
  {
   "cell_type": "code",
   "execution_count": 7,
   "metadata": {},
   "outputs": [],
   "source": [
    "# Convert columns to appropriate data types\n",
    "df[\"super_treasure_hunt_year\"] = df[\"super_treasure_hunt_year\"].astype(\"Int64\")\n",
    "df[\"treasure_hunt_year\"] = df[\"treasure_hunt_year\"].astype(\"Int64\")\n",
    "df[\"release_year\"] = pd.to_numeric(df[\"release_year\"], errors='coerce').astype(\"Int64\")"
   ]
  },
  {
   "cell_type": "code",
   "execution_count": 8,
   "metadata": {},
   "outputs": [
    {
     "data": {
      "application/vnd.microsoft.datawrangler.viewer.v0+json": {
       "columns": [
        {
         "name": "index",
         "rawType": "int64",
         "type": "integer"
        },
        {
         "name": "model_name",
         "rawType": "object",
         "type": "string"
        },
        {
         "name": "image_url",
         "rawType": "object",
         "type": "string"
        },
        {
         "name": "series",
         "rawType": "object",
         "type": "string"
        },
        {
         "name": "release_year",
         "rawType": "Int64",
         "type": "integer"
        }
       ],
       "conversionMethod": "pd.DataFrame",
       "ref": "62dd23ec-a2d8-4dd4-b3be-25f5eca8ae75",
       "rows": [
        [
         "5174",
         "C6 Corvette",
         "https://images.collecthw.com/d05e76ec-86b5-4973-b4b6-c7d05f20e887_large.png",
         "Auto Affinity Great 8s",
         "2004"
        ],
        [
         "49899",
         "Volkswagen T2 Pickup",
         "https://images.collecthw.com/9ae41c94-fa11-46f4-aeaa-72e81c2154db_large.jpg",
         "Volkswagen",
         "2019"
        ],
        [
         "5681",
         "GMC Motor Home",
         "https://images.collecthw.com/69df0223-9596-4692-a69f-1d0516548aec_large.png",
         "1980 Hot Wheels",
         "1980"
        ],
        [
         "43867",
         "'15 Dodge Charger SRT",
         "https://images.collecthw.com/b749c74b-81cd-450a-b278-f2bce72faba1_large.png",
         "HW Rescue",
         "2022"
        ],
        [
         "19511",
         "Streex Machine",
         "https://images.collecthw.com/504723af-34fa-482d-a7bd-2cf3e7da7d50_large.png",
         "Streex Laucher Set",
         "1992"
        ],
        [
         "24608",
         "Fandango",
         "https://images.collecthw.com/d502a23b-ada9-4593-9340-22bade5f5a52_large.png",
         "Checkmate",
         "2018"
        ],
        [
         "50683",
         "Chevy Silverado Off Road",
         "https://images.collecthw.com/54014dc8-e7c8-41fd-bb54-139a45ae3b93_large.jpg",
         "Mud Studs 5-Pack",
         "2024"
        ],
        [
         "35901",
         "'91 Mazda MX-5 Miata",
         "https://images.collecthw.com/54ca4eff-6a1a-49c5-b3d2-ea359033a48a_large.png",
         "HW Roadsters",
         "2020"
        ],
        [
         "33326",
         "Surfin' School Bus",
         "https://images.collecthw.com/c0e30015-add6-416f-aadd-75ce1dfb2b24_large.png",
         "Flying Customs",
         "2003"
        ],
        [
         "40236",
         "Batmobile",
         "https://images.collecthw.com/8934108a-217c-4632-ac70-6e6d296a31be_large.png",
         "Batman",
         "2018"
        ],
        [
         "48881",
         "Peterbilt Tank Truck",
         "https://images.collecthw.com/54dc9f68-07f3-4004-8342-4b0195bd062a_large.png",
         "Heat Fleet Series",
         "1997"
        ]
       ],
       "shape": {
        "columns": 4,
        "rows": 11
       }
      },
      "text/html": [
       "<div>\n",
       "<style scoped>\n",
       "    .dataframe tbody tr th:only-of-type {\n",
       "        vertical-align: middle;\n",
       "    }\n",
       "\n",
       "    .dataframe tbody tr th {\n",
       "        vertical-align: top;\n",
       "    }\n",
       "\n",
       "    .dataframe thead th {\n",
       "        text-align: right;\n",
       "    }\n",
       "</style>\n",
       "<table border=\"1\" class=\"dataframe\">\n",
       "  <thead>\n",
       "    <tr style=\"text-align: right;\">\n",
       "      <th></th>\n",
       "      <th>model_name</th>\n",
       "      <th>image_url</th>\n",
       "      <th>series</th>\n",
       "      <th>release_year</th>\n",
       "    </tr>\n",
       "  </thead>\n",
       "  <tbody>\n",
       "    <tr>\n",
       "      <th>5174</th>\n",
       "      <td>C6 Corvette</td>\n",
       "      <td>https://images.collecthw.com/d05e76ec-86b5-497...</td>\n",
       "      <td>Auto Affinity Great 8s</td>\n",
       "      <td>2004</td>\n",
       "    </tr>\n",
       "    <tr>\n",
       "      <th>49899</th>\n",
       "      <td>Volkswagen T2 Pickup</td>\n",
       "      <td>https://images.collecthw.com/9ae41c94-fa11-46f...</td>\n",
       "      <td>Volkswagen</td>\n",
       "      <td>2019</td>\n",
       "    </tr>\n",
       "    <tr>\n",
       "      <th>5681</th>\n",
       "      <td>GMC Motor Home</td>\n",
       "      <td>https://images.collecthw.com/69df0223-9596-469...</td>\n",
       "      <td>1980 Hot Wheels</td>\n",
       "      <td>1980</td>\n",
       "    </tr>\n",
       "    <tr>\n",
       "      <th>43867</th>\n",
       "      <td>'15 Dodge Charger SRT</td>\n",
       "      <td>https://images.collecthw.com/b749c74b-81cd-450...</td>\n",
       "      <td>HW Rescue</td>\n",
       "      <td>2022</td>\n",
       "    </tr>\n",
       "    <tr>\n",
       "      <th>19511</th>\n",
       "      <td>Streex Machine</td>\n",
       "      <td>https://images.collecthw.com/504723af-34fa-482...</td>\n",
       "      <td>Streex Laucher Set</td>\n",
       "      <td>1992</td>\n",
       "    </tr>\n",
       "    <tr>\n",
       "      <th>24608</th>\n",
       "      <td>Fandango</td>\n",
       "      <td>https://images.collecthw.com/d502a23b-ada9-459...</td>\n",
       "      <td>Checkmate</td>\n",
       "      <td>2018</td>\n",
       "    </tr>\n",
       "    <tr>\n",
       "      <th>50683</th>\n",
       "      <td>Chevy Silverado Off Road</td>\n",
       "      <td>https://images.collecthw.com/54014dc8-e7c8-41f...</td>\n",
       "      <td>Mud Studs 5-Pack</td>\n",
       "      <td>2024</td>\n",
       "    </tr>\n",
       "    <tr>\n",
       "      <th>35901</th>\n",
       "      <td>'91 Mazda MX-5 Miata</td>\n",
       "      <td>https://images.collecthw.com/54ca4eff-6a1a-49c...</td>\n",
       "      <td>HW Roadsters</td>\n",
       "      <td>2020</td>\n",
       "    </tr>\n",
       "    <tr>\n",
       "      <th>33326</th>\n",
       "      <td>Surfin' School Bus</td>\n",
       "      <td>https://images.collecthw.com/c0e30015-add6-416...</td>\n",
       "      <td>Flying Customs</td>\n",
       "      <td>2003</td>\n",
       "    </tr>\n",
       "    <tr>\n",
       "      <th>40236</th>\n",
       "      <td>Batmobile</td>\n",
       "      <td>https://images.collecthw.com/8934108a-217c-463...</td>\n",
       "      <td>Batman</td>\n",
       "      <td>2018</td>\n",
       "    </tr>\n",
       "    <tr>\n",
       "      <th>48881</th>\n",
       "      <td>Peterbilt Tank Truck</td>\n",
       "      <td>https://images.collecthw.com/54dc9f68-07f3-400...</td>\n",
       "      <td>Heat Fleet Series</td>\n",
       "      <td>1997</td>\n",
       "    </tr>\n",
       "  </tbody>\n",
       "</table>\n",
       "</div>"
      ],
      "text/plain": [
       "                     model_name  \\\n",
       "5174                C6 Corvette   \n",
       "49899      Volkswagen T2 Pickup   \n",
       "5681             GMC Motor Home   \n",
       "43867     '15 Dodge Charger SRT   \n",
       "19511            Streex Machine   \n",
       "24608                  Fandango   \n",
       "50683  Chevy Silverado Off Road   \n",
       "35901      '91 Mazda MX-5 Miata   \n",
       "33326        Surfin' School Bus   \n",
       "40236                 Batmobile   \n",
       "48881      Peterbilt Tank Truck   \n",
       "\n",
       "                                               image_url  \\\n",
       "5174   https://images.collecthw.com/d05e76ec-86b5-497...   \n",
       "49899  https://images.collecthw.com/9ae41c94-fa11-46f...   \n",
       "5681   https://images.collecthw.com/69df0223-9596-469...   \n",
       "43867  https://images.collecthw.com/b749c74b-81cd-450...   \n",
       "19511  https://images.collecthw.com/504723af-34fa-482...   \n",
       "24608  https://images.collecthw.com/d502a23b-ada9-459...   \n",
       "50683  https://images.collecthw.com/54014dc8-e7c8-41f...   \n",
       "35901  https://images.collecthw.com/54ca4eff-6a1a-49c...   \n",
       "33326  https://images.collecthw.com/c0e30015-add6-416...   \n",
       "40236  https://images.collecthw.com/8934108a-217c-463...   \n",
       "48881  https://images.collecthw.com/54dc9f68-07f3-400...   \n",
       "\n",
       "                       series  release_year  \n",
       "5174   Auto Affinity Great 8s          2004  \n",
       "49899              Volkswagen          2019  \n",
       "5681          1980 Hot Wheels          1980  \n",
       "43867               HW Rescue          2022  \n",
       "19511      Streex Laucher Set          1992  \n",
       "24608               Checkmate          2018  \n",
       "50683        Mud Studs 5-Pack          2024  \n",
       "35901            HW Roadsters          2020  \n",
       "33326          Flying Customs          2003  \n",
       "40236                  Batman          2018  \n",
       "48881       Heat Fleet Series          1997  "
      ]
     },
     "execution_count": 8,
     "metadata": {},
     "output_type": "execute_result"
    }
   ],
   "source": [
    "df[['model_name', 'image_url', 'series', 'release_year']].sample(11)"
   ]
  },
  {
   "cell_type": "markdown",
   "metadata": {},
   "source": [
    "## 6. Database Export"
   ]
  },
  {
   "cell_type": "code",
   "execution_count": 9,
   "metadata": {},
   "outputs": [
    {
     "data": {
      "text/plain": [
       "' DATABASE_URL = f\"postgresql://{POSTGRES_USER}:{POSTGRES_PASSWORD}@{POSTGRES_HOSTNAME}:{POSTGRES_PORT}/{POSTGRES_DB}\"\\nengine = create_engine(DATABASE_URL)\\n\\ndf.to_sql(\\'hotwheels\\', engine, if_exists=\\'append\\', index=False) '"
      ]
     },
     "execution_count": 9,
     "metadata": {},
     "output_type": "execute_result"
    }
   ],
   "source": [
    "\"\"\" DATABASE_URL = f\"postgresql://{POSTGRES_USER}:{POSTGRES_PASSWORD}@{POSTGRES_HOSTNAME}:{POSTGRES_PORT}/{POSTGRES_DB}\"\n",
    "engine = create_engine(DATABASE_URL)\n",
    "\n",
    "df.to_sql('hotwheels', engine, if_exists='append', index=False) \"\"\""
   ]
  }
 ],
 "metadata": {
  "kernelspec": {
   "display_name": ".venv",
   "language": "python",
   "name": "python3"
  },
  "language_info": {
   "codemirror_mode": {
    "name": "ipython",
    "version": 3
   },
   "file_extension": ".py",
   "mimetype": "text/x-python",
   "name": "python",
   "nbconvert_exporter": "python",
   "pygments_lexer": "ipython3",
   "version": "3.12.9"
  }
 },
 "nbformat": 4,
 "nbformat_minor": 2
}
